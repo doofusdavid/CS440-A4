{
 "cells": [
  {
   "cell_type": "markdown",
   "metadata": {},
   "source": [
    "# Assignment 4: Negamax with Alpha-Beta Pruning and Iterative Deepening"
   ]
  },
  {
   "cell_type": "markdown",
   "metadata": {},
   "source": [
    "Still being developed, but you may get started on this when you are finished with Assignment 3."
   ]
  },
  {
   "cell_type": "markdown",
   "metadata": {},
   "source": [
    "# Table of Contents\n",
    "* [Assignment 4: Negamax with Alpha-Beta Pruning and Iterative Deepening](#Assignment-4:-Negamax-with-Alpha-Beta-Pruning-and-Iterative-Deepening)\n",
    "\t* [Initial Code](#Initial-Code)\n",
    "\t* [Add moves counter](#Add-moves-counter)\n",
    "\t* [negamaxIDS](#negamaxIDS)\n",
    "\t* [negamaxIDSab](#negamaxIDSab)\n",
    "\t* [Grading](#Grading)\n",
    "\t* [Extra Credit](#Extra-Credit)\n"
   ]
  },
  {
   "cell_type": "markdown",
   "metadata": {},
   "source": [
    "For this assignment, you will investigate the advantages of alpha-beta\n",
    "pruning applied to Tic-Tac-Toe.  To do so, follow these steps."
   ]
  },
  {
   "cell_type": "markdown",
   "metadata": {},
   "source": [
    "## Initial Code"
   ]
  },
  {
   "cell_type": "markdown",
   "metadata": {},
   "source": [
    "Check that the following function `playGame` runs\n",
    "correctly. Notice that we are using *negamax* to find the best move for\n",
    "Player X, but Player O, the opponent, is using function *opponent*\n",
    "that follows the silly strategy of playing in the first open position."
   ]
  },
  {
   "cell_type": "code",
   "execution_count": 4,
   "metadata": {},
   "outputs": [
    {
     "name": "stdout",
     "output_type": "stream",
     "text": [
      " | | \n",
      "-----\n",
      " | | \n",
      "-----\n",
      " | | \n",
      "Player X to 0 for score inf\n",
      "X| | \n",
      "-----\n",
      " | | \n",
      "-----\n",
      " | | \n",
      "Player O to 1\n",
      "X|O| \n",
      "-----\n",
      " | | \n",
      "-----\n",
      " | | \n",
      "Player X to 2 for score inf\n",
      "X|O|X\n",
      "-----\n",
      " | | \n",
      "-----\n",
      " | | \n",
      "Player O to 3\n",
      "X|O|X\n",
      "-----\n",
      "O| | \n",
      "-----\n",
      " | | \n",
      "Player X to 4 for score inf\n",
      "X|O|X\n",
      "-----\n",
      "O|X| \n",
      "-----\n",
      " | | \n",
      "Player O to 5\n",
      "X|O|X\n",
      "-----\n",
      "O|X|O\n",
      "-----\n",
      " | | \n",
      "Player X to 6 for score 1\n",
      "X|O|X\n",
      "-----\n",
      "O|X|O\n",
      "-----\n",
      "X| | \n",
      "Moves Explored:  186\n"
     ]
    }
   ],
   "source": [
    "%run MySolution.py\n",
    "game = TTT()\n",
    "playGame(game,opponent,10)\n",
    "print(\"Moves Explored: \" , game.getMovesExplored())"
   ]
  },
  {
   "cell_type": "markdown",
   "metadata": {},
   "source": [
    "## Add moves counter"
   ]
  },
  {
   "cell_type": "markdown",
   "metadata": {},
   "source": [
    "Evaluate the efficiency of the search by keepting track of the number of nodes explored, which is the same as the number of moves explored, during a game. Do this by adding a counter named `movesExplored` to the `TTT` constructor where it is initialized to 0 and increment the counter in the `TTT.makeMove` method.  Add a method `ttt.getNumberMovesExplored()` to get its current value.  So\n",
    "\n",
    "    print('Number of moves explored', game.getMovesExplored())\n",
    "    \n",
    "will print the number of moves explored. You will not use a global variable for counting this time."
   ]
  },
  {
   "cell_type": "markdown",
   "metadata": {},
   "source": [
    "## negamaxIDS "
   ]
  },
  {
   "cell_type": "markdown",
   "metadata": {},
   "source": [
    "Write a new function named `negamaxIDS` that performs an iterative deepening negamax search.  Replace the first line in the `while` loop of `playGame` with\n",
    "\n",
    "        score,move = negamaxIDS(game,depthLimit)\n",
    "        \n",
    "where `depthLimit` is now the maximum depth and multiple `negamax` searches are performed for depth limits of $1, 2, \\ldots,$ maximum depth.  Make sure it works."
   ]
  },
  {
   "cell_type": "markdown",
   "metadata": {},
   "source": [
    "## negamaxIDSab"
   ]
  },
  {
   "cell_type": "markdown",
   "metadata": {},
   "source": [
    "Now for the hardest part.  Make a new function `negamaxIDSab` by duplicating `negamaxIDS` and add the code to implement alpha-beta pruning."
   ]
  },
  {
   "cell_type": "markdown",
   "metadata": {},
   "source": [
    "Now duplicate the game playing loop so three complete tic-tac-toe games are played.  Call this new version `playGames`. For the first game, use `negamax`. For the second game, use `negamaxIDS`.  For the third game, use `negamaxIDSab`.  At the end of each game, print the number of X's in the final board, the number moves explored, the depth of the game which is the number of moves made by X and O, and the effective branching factor.  When you run `playGames` you should see the tic-tac-toe positions after each move and, after all games are done, a line for each game like\n",
    "\n",
    "    negamax made 4 moves. 33216 moves explored for ebf(33216, 8) of 3.52    \n",
    "    negamaxIDS made 4 moves. 186 moves explored for ebf(186, 8) of 1.73\n",
    "    negamaxIDSab made 4 moves. 52 moves explored for ebf(52, 8) of 1.41\n",
    "  \n",
    "(Your results may be different.)"
   ]
  },
  {
   "cell_type": "markdown",
   "metadata": {},
   "source": [
    "Here are some example results."
   ]
  },
  {
   "cell_type": "code",
   "execution_count": null,
   "metadata": {
    "collapsed": true
   },
   "outputs": [],
   "source": [
    "# from A4mysolution import *"
   ]
  },
  {
   "cell_type": "code",
   "execution_count": null,
   "metadata": {
    "collapsed": true
   },
   "outputs": [],
   "source": [
    "def opponent(board):\n",
    "    blanks = [i for i, mark in enumerate(board) if mark == ' ']\n",
    "    # return blanks[-1]\n",
    "    # return random.choice(blanks)\n",
    "    return blanks[0]"
   ]
  },
  {
   "cell_type": "code",
   "execution_count": null,
   "metadata": {},
   "outputs": [],
   "source": [
    "playGames(opponent, 25)"
   ]
  },
  {
   "cell_type": "markdown",
   "metadata": {},
   "source": [
    "## Grading"
   ]
  },
  {
   "cell_type": "markdown",
   "metadata": {},
   "source": [
    "Grading code is coming.  Stay Tuned"
   ]
  },
  {
   "cell_type": "markdown",
   "metadata": {},
   "source": [
    "## Extra Credit "
   ]
  },
  {
   "cell_type": "markdown",
   "metadata": {},
   "source": [
    "Implement another game and repeat the above steps.\n",
    "\n",
    "Implement a random move chooser as the opponent (Player O) and\n",
    "determine how many times Player X can win against this opponent as an\n",
    "average over multiple games."
   ]
  },
  {
   "cell_type": "code",
   "execution_count": null,
   "metadata": {
    "collapsed": true
   },
   "outputs": [],
   "source": []
  }
 ],
 "metadata": {
  "kernelspec": {
   "display_name": "Python 3",
   "language": "python",
   "name": "python3"
  },
  "language_info": {
   "codemirror_mode": {
    "name": "ipython",
    "version": 3
   },
   "file_extension": ".py",
   "mimetype": "text/x-python",
   "name": "python",
   "nbconvert_exporter": "python",
   "pygments_lexer": "ipython3",
   "version": "3.6.2"
  }
 },
 "nbformat": 4,
 "nbformat_minor": 2
}
